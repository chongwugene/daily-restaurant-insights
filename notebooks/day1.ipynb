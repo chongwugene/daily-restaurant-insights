{
 "cells": [
  {
   "cell_type": "code",
   "execution_count": 18,
   "id": "da803a6c",
   "metadata": {},
   "outputs": [
    {
     "name": "stdout",
     "output_type": "stream",
     "text": [
      "The autoreload extension is already loaded. To reload it, use:\n",
      "  %reload_ext autoreload\n"
     ]
    },
    {
     "data": {
      "text/plain": [
       "{'project': 'dri-dev-96',\n",
       " 'bucket': 'gs://dri-raw-96',\n",
       " 'bq_datasets': {'bronze': 'bronze', 'silver': 'silver', 'gold': 'gold'},\n",
       " 'sa': '/app/gcp-sa-dri-dev.json'}"
      ]
     },
     "execution_count": 18,
     "metadata": {},
     "output_type": "execute_result"
    }
   ],
   "source": [
    "# --- Notebook bootstrap for VS Code Jupyter ---\n",
    "# 1) Ensure /app is importable (so `from utils.config import load_cfg` works)\n",
    "import sys, os\n",
    "if \"/app\" not in sys.path:\n",
    "    sys.path.append(\"/app\")\n",
    "\n",
    "# 2) Load .env variables into this kernel (VS Code notebooks don't auto-load .env)\n",
    "from dotenv import load_dotenv\n",
    "# By default this looks for .env in the current working dir; pass a path if needed:\n",
    "# load_dotenv(dotenv_path=\"/app/.env\")\n",
    "load_dotenv(override=False)  # don't clobber anything already in the env\n",
    "\n",
    "# 3) Auto-reload modules so edits in /app/utils/config.py are picked up\n",
    "%load_ext autoreload\n",
    "%autoreload 2\n",
    "\n",
    "# 4) Quick sanity check\n",
    "from utils.config import load_cfg\n",
    "load_cfg()\n"
   ]
  },
  {
   "cell_type": "code",
   "execution_count": 17,
   "id": "84b63b00",
   "metadata": {},
   "outputs": [
    {
     "data": {
      "text/plain": [
       "{'project': 'dri-dev-96',\n",
       " 'bucket': 'gs://dri-raw-96',\n",
       " 'bq_datasets': {'bronze': 'bronze', 'silver': 'silver', 'gold': 'gold'},\n",
       " 'sa': '/app/gcp-sa-dri-dev.json'}"
      ]
     },
     "execution_count": 17,
     "metadata": {},
     "output_type": "execute_result"
    }
   ],
   "source": [
    "#FLIP ENVIRONMENT\n",
    "import os, importlib, utils.config as cfgmod\n",
    "os.environ[\"ENV\"] = \"dev\"   # or \"dev\" #or \"prod\"\n",
    "importlib.reload(cfgmod)\n",
    "cfgmod.load_cfg()\n"
   ]
  },
  {
   "cell_type": "code",
   "execution_count": null,
   "id": "f81c3b5a",
   "metadata": {},
   "outputs": [],
   "source": [
    "import sys \n",
    "import os \n",
    "import importlib\n",
    "if \"/app\" not in sys.path:\n",
    "    sys.path.append(\"/app\")\n",
    "\n",
    "if \"/app\" in sys.path:\n",
    "    print(\"App directory is in sys.path\")\n",
    "\n",
    "# autoreload is so that edits in utils/config.py take effect without restart\n",
    "%load_ext autoreload\n",
    "%autoreload 2\n",
    "import utils.config as uconfig\n",
    "from utils.config import load_cfg\n",
    "load_cfg()\n",
    "print (\"My first time loading is prior to change:\", load_cfg())\n",
    "\n",
    "# os.environ[\"ENV\"] = \"dev\"\n",
    "# importlib.reload(uconfig)\n",
    "# load_cfg()"
   ]
  },
  {
   "cell_type": "code",
   "execution_count": null,
   "id": "9e42cd4f",
   "metadata": {},
   "outputs": [],
   "source": [
    "from utils.config import load_cfg\n",
    "print(load_cfg())\n"
   ]
  },
  {
   "cell_type": "code",
   "execution_count": null,
   "id": "112e5dc8",
   "metadata": {},
   "outputs": [],
   "source": [
    "import os, importlib, utils.config as cfgmod\n",
    "os.environ[\"ENV\"] = \"dev\"\n",
    "importlib.reload(cfgmod)\n",
    "cfgmod.load_cfg()"
   ]
  },
  {
   "cell_type": "code",
   "execution_count": null,
   "id": "d0bf6464",
   "metadata": {},
   "outputs": [],
   "source": [
    "os.getenv(\"ENV\", \"dev\")\n",
    "\n",
    "print(os.environ)  # Ensure the environment variable is set for the current session"
   ]
  },
  {
   "cell_type": "code",
   "execution_count": null,
   "id": "6b4cbbff",
   "metadata": {},
   "outputs": [],
   "source": [
    "from utils.config import load_cfg\n",
    "load_cfg()"
   ]
  },
  {
   "cell_type": "code",
   "execution_count": null,
   "id": "a3eca32b",
   "metadata": {},
   "outputs": [],
   "source": []
  }
 ],
 "metadata": {
  "kernelspec": {
   "display_name": "Python 3",
   "language": "python",
   "name": "python3"
  },
  "language_info": {
   "codemirror_mode": {
    "name": "ipython",
    "version": 3
   },
   "file_extension": ".py",
   "mimetype": "text/x-python",
   "name": "python",
   "nbconvert_exporter": "python",
   "pygments_lexer": "ipython3",
   "version": "3.11.13"
  }
 },
 "nbformat": 4,
 "nbformat_minor": 5
}
