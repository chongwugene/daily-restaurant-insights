{
 "cells": [
  {
   "cell_type": "code",
   "execution_count": 4,
   "id": "16b0ed96",
   "metadata": {},
   "outputs": [
    {
     "name": "stdout",
     "output_type": "stream",
     "text": [
      "App directory is in sys.path\n"
     ]
    }
   ],
   "source": [
    "import sys\n",
    "if \"/app\" not in sys.path:\n",
    "    sys.path.append(\"/app\")\n",
    "\n",
    "if \"/app\" in sys.path:\n",
    "    print(\"App directory is in sys.path\")"
   ]
  },
  {
   "cell_type": "code",
   "execution_count": 1,
   "id": "45ede085",
   "metadata": {},
   "outputs": [
    {
     "name": "stdout",
     "output_type": "stream",
     "text": [
      "Fetching businesses for: korean bbq\n",
      "Fetching businesses for: ramen\n",
      "Fetching businesses for: coffee\n",
      "gs://dri-raw-96\n"
     ]
    }
   ],
   "source": [
    "# List: we want to loop over a set of Yelp queries\n",
    "search_terms = [\"korean bbq\", \"ramen\", \"coffee\"]\n",
    "\n",
    "for term in search_terms:\n",
    "    print(\"Fetching businesses for:\", term)\n",
    "\n",
    "# Dict: mapping env → bucket\n",
    "bucket_map = {\n",
    "    \"dev\": \"gs://dri-raw-96\",\n",
    "    \"prod\": \"gs://dri-raw-prod-96\"\n",
    "}\n",
    "\n",
    "print(bucket_map[\"dev\"])\n"
   ]
  },
  {
   "cell_type": "code",
   "execution_count": 13,
   "id": "8e8d27c5",
   "metadata": {},
   "outputs": [],
   "source": [
    "def build_gcs_path(dataset: str, table: str) -> str:\n",
    "    \"\"\"\n",
    "    Build a GCS path for a given dataset/table.\n",
    "\n",
    "    Args:\n",
    "        dataset (str): e.g., \"bronze\"\n",
    "        table (str): e.g., \"yelp_businesses\"\n",
    "\n",
    "    Returns:\n",
    "        str: full GCS path\n",
    "    \"\"\"\n",
    "    from utils.config import load_cfg\n",
    "    cfg = load_cfg()\n",
    "    bucket = cfg[\"bucket\"]\n",
    "    return f\"{bucket}/{dataset}/{table}/\"\n"
   ]
  },
  {
   "cell_type": "code",
   "execution_count": 15,
   "id": "6debf0b2",
   "metadata": {},
   "outputs": [
    {
     "name": "stdout",
     "output_type": "stream",
     "text": [
      "gs://dri-raw-96/bronze/yelp_businesses/\n",
      "{'project': 'dri-dev-96', 'bucket': 'gs://dri-raw-96', 'bq_datasets': {'bronze': 'bronze', 'silver': 'silver', 'gold': 'gold'}, 'sa': '/app/gcp-sa-dri-dev.json'}\n"
     ]
    }
   ],
   "source": [
    "from utils.config import load_cfg\n",
    "print(build_gcs_path(\"bronze\", \"yelp_businesses\"))\n",
    "print(load_cfg())"
   ]
  },
  {
   "cell_type": "code",
   "execution_count": 25,
   "id": "4962d11a",
   "metadata": {},
   "outputs": [
    {
     "name": "stdout",
     "output_type": "stream",
     "text": [
      "['KOREAN BBQ', 'RAMEN', 'COFFEE']\n",
      "['korean bbq', 'ramen', 'coffee']\n"
     ]
    }
   ],
   "source": [
    "search_terms = [\"korean bbq\", \"ramen\", \"coffee\"]\n",
    "uppercase_terms = [term.upper() for term in search_terms]\n",
    "print(uppercase_terms)\n",
    "lowercase_terms = [term.lower() for term in uppercase_terms]\n",
    "print(lowercase_terms)\n"
   ]
  },
  {
   "cell_type": "code",
   "execution_count": 35,
   "id": "60360a04",
   "metadata": {},
   "outputs": [
    {
     "name": "stdout",
     "output_type": "stream",
     "text": [
      "dev → gs://dri-raw-96\n",
      "prod → gs://dri-raw-prod-96\n",
      "dev → gs://dri-raw-96\n",
      "prod → gs://dri-raw-prod-96\n"
     ]
    }
   ],
   "source": [
    "bucket_map = {\"dev\": \"gs://dri-raw-96\", \"prod\": \"gs://dri-raw-prod-96\"}\n",
    "for i, n in bucket_map.items():\n",
    "    print(i, \"→\", n)\n",
    "for i in bucket_map:\n",
    "    print(i, \"→\", bucket_map[i])\n"
   ]
  },
  {
   "cell_type": "code",
   "execution_count": 36,
   "id": "fbe91533",
   "metadata": {},
   "outputs": [
    {
     "name": "stdout",
     "output_type": "stream",
     "text": [
      "gs://dri-raw-96/bronze/yelp_businesses/\n",
      "gs://dri-raw-96/silver/yelp_businesses/\n"
     ]
    }
   ],
   "source": [
    "for dataset in [\"bronze\", \"silver\"]:\n",
    "    print(build_gcs_path(dataset, \"yelp_businesses\"))\n"
   ]
  },
  {
   "cell_type": "code",
   "execution_count": null,
   "id": "69baf866",
   "metadata": {},
   "outputs": [],
   "source": []
  }
 ],
 "metadata": {
  "kernelspec": {
   "display_name": "Python 3",
   "language": "python",
   "name": "python3"
  },
  "language_info": {
   "codemirror_mode": {
    "name": "ipython",
    "version": 3
   },
   "file_extension": ".py",
   "mimetype": "text/x-python",
   "name": "python",
   "nbconvert_exporter": "python",
   "pygments_lexer": "ipython3",
   "version": "3.11.13"
  }
 },
 "nbformat": 4,
 "nbformat_minor": 5
}
