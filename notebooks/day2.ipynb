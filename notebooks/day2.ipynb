{
 "cells": [
  {
   "cell_type": "code",
   "execution_count": 44,
   "id": "16b0ed96",
   "metadata": {},
   "outputs": [
    {
     "name": "stdout",
     "output_type": "stream",
     "text": [
      "App directory is in sys.path\n"
     ]
    }
   ],
   "source": [
    "import sys\n",
    "if \"/app\" not in sys.path:\n",
    "    sys.path.append(\"/app\")\n",
    "\n",
    "if \"/app\" in sys.path:\n",
    "    print(\"App directory is in sys.path\")"
   ]
  },
  {
   "cell_type": "code",
   "execution_count": null,
   "id": "45ede085",
   "metadata": {},
   "outputs": [],
   "source": [
    "# List: we want to loop over a set of Yelp queries\n",
    "search_terms = [\"korean bbq\", \"ramen\", \"coffee\"]\n",
    "\n",
    "for term in search_terms:\n",
    "    print(\"Fetching businesses for:\", term)\n",
    "\n",
    "# Dict: mapping env → bucket\n",
    "bucket_map = {\n",
    "    \"dev\": \"gs://dri-raw-96\",\n",
    "    \"prod\": \"gs://dri-raw-prod-96\"\n",
    "}\n",
    "\n",
    "print(bucket_map[\"dev\"])\n"
   ]
  },
  {
   "cell_type": "code",
   "execution_count": 45,
   "id": "8e8d27c5",
   "metadata": {},
   "outputs": [],
   "source": [
    "def build_gcs_path(dataset: str, table: str) -> str:\n",
    "    \"\"\"\n",
    "    Build a GCS path for a given dataset/table.\n",
    "\n",
    "    Args:\n",
    "        dataset (str): e.g., \"bronze\"\n",
    "        table (str): e.g., \"yelp_businesses\"\n",
    "\n",
    "    Returns:\n",
    "        str: full GCS path\n",
    "    \"\"\"\n",
    "    from utils.config import load_cfg\n",
    "    cfg = load_cfg()\n",
    "    bucket = cfg[\"bucket\"]\n",
    "    return f\"{bucket}/{dataset}/{table}/\"\n"
   ]
  },
  {
   "cell_type": "code",
   "execution_count": 46,
   "id": "6debf0b2",
   "metadata": {},
   "outputs": [
    {
     "name": "stdout",
     "output_type": "stream",
     "text": [
      "gs://dri-raw-96/bronze/yelp_businesses/\n",
      "{'project': 'dri-dev-96', 'bucket': 'gs://dri-raw-96', 'bq_datasets': {'bronze': 'bronze', 'silver': 'silver', 'gold': 'gold'}, 'sa': '/app/gcp-sa-dri-dev.json'}\n"
     ]
    }
   ],
   "source": [
    "from utils.config import load_cfg\n",
    "print(build_gcs_path(\"bronze\", \"yelp_businesses\"))\n",
    "print(load_cfg())"
   ]
  },
  {
   "cell_type": "code",
   "execution_count": null,
   "id": "4962d11a",
   "metadata": {},
   "outputs": [],
   "source": [
    "search_terms = [\"korean bbq\", \"ramen\", \"coffee\"]\n",
    "uppercase_terms = [term.upper() for term in search_terms]\n",
    "print(uppercase_terms)\n",
    "lowercase_terms = [term.lower() for term in uppercase_terms]\n",
    "print(lowercase_terms)\n"
   ]
  },
  {
   "cell_type": "code",
   "execution_count": null,
   "id": "60360a04",
   "metadata": {},
   "outputs": [],
   "source": [
    "bucket_map = {\"dev\": \"gs://dri-raw-96\", \"prod\": \"gs://dri-raw-prod-96\"}\n",
    "for i, n in bucket_map.items():\n",
    "    print(i, \"→\", n)\n",
    "for i in bucket_map:\n",
    "    print(i, \"→\", bucket_map[i])\n"
   ]
  },
  {
   "cell_type": "code",
   "execution_count": null,
   "id": "fbe91533",
   "metadata": {},
   "outputs": [],
   "source": [
    "for dataset in [\"bronze\", \"silver\"]:\n",
    "    print(build_gcs_path(dataset, \"yelp_businesses\"))\n"
   ]
  },
  {
   "cell_type": "code",
   "execution_count": 76,
   "id": "69baf866",
   "metadata": {},
   "outputs": [
    {
     "name": "stdout",
     "output_type": "stream",
     "text": [
      "Letter\n",
      "City:San Francisco, Zipcode: 94103\n",
      "City: San Francisco, Zipcode: 94103\n",
      "t\n",
      "16 0\n",
      "192\n",
      "*********\n",
      "PyPyLove\n"
     ]
    }
   ],
   "source": [
    "a=\"text\"\n",
    "\n",
    "if a == \"words\" or \"Nones\":\n",
    "    print(\"Letter\")\n",
    "else:\n",
    "    print(\"Number\")\n",
    "\n",
    "city = 'San Francisco'\n",
    "zipcode = 94103\n",
    "\n",
    "print('City:' + city + ', Zipcode: ' + str(zipcode))\n",
    "print(f'City: {city}, Zipcode: {zipcode}')\n",
    "\n",
    "x = [1, 2, 3, 1, 1]\n",
    "len(x)\n",
    "\n",
    "type(x)\n",
    "\n",
    "msg = 'Python'\n",
    "print(msg[2])\n",
    "\n",
    "x = 16 * True\n",
    "y = (8 + 4) * False\n",
    "print(x, y)\n",
    "z = x * 12 + y * 6\n",
    "print(z)\n",
    "\n",
    "pw = 'python123'\n",
    "masked = '*' * (len(pw))\n",
    "print(masked)\n",
    "\n",
    "word = 'Py'\n",
    "character = 'thon'\n",
    "print(word*2 + 'Love')\n",
    "\n"
   ]
  },
  {
   "cell_type": "code",
   "execution_count": null,
   "id": "b1f8cd7a",
   "metadata": {},
   "outputs": [],
   "source": []
  }
 ],
 "metadata": {
  "kernelspec": {
   "display_name": "Python 3",
   "language": "python",
   "name": "python3"
  },
  "language_info": {
   "codemirror_mode": {
    "name": "ipython",
    "version": 3
   },
   "file_extension": ".py",
   "mimetype": "text/x-python",
   "name": "python",
   "nbconvert_exporter": "python",
   "pygments_lexer": "ipython3",
   "version": "3.11.13"
  }
 },
 "nbformat": 4,
 "nbformat_minor": 5
}
