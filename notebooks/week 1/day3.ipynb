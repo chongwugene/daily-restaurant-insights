{
 "cells": [
  {
   "cell_type": "code",
   "execution_count": null,
   "id": "a70be1fd",
   "metadata": {},
   "outputs": [
    {
     "name": "stdout",
     "output_type": "stream",
     "text": [
      "Safe to continue with project: dri-dev-96\n",
      "Safe to continue with project: 123\n"
     ]
    }
   ],
   "source": [
    "def require(value, message: str):\n",
    "    if value is None or (isinstance(value, str) and not value.strip()):\n",
    "        raise ValueError(message)\n",
    "    return value\n",
    "\n",
    "# Example\n",
    "project = require(\"dri-dev-96\", \"Project ID missing!\")\n",
    "print(\"Safe to continue with project:\", project)\n",
    "\n",
    "project = require('', \"Project ID missing!\")\n",
    "print(\"Safe to continue with project:\", project)\n"
   ]
  },
  {
   "cell_type": "code",
   "execution_count": null,
   "id": "f07ebe93",
   "metadata": {},
   "outputs": [
    {
     "name": "stderr",
     "output_type": "stream",
     "text": [
      "usage: ipykernel_launcher.py [-h] --term TERM [--max-records MAX_RECORDS]\n",
      "ipykernel_launcher.py: error: the following arguments are required: --term\n"
     ]
    },
    {
     "ename": "SystemExit",
     "evalue": "2",
     "output_type": "error",
     "traceback": [
      "An exception has occurred, use %tb to see the full traceback.\n",
      "\u001b[31mSystemExit\u001b[39m\u001b[31m:\u001b[39m 2\n"
     ]
    },
    {
     "name": "stderr",
     "output_type": "stream",
     "text": [
      "/usr/local/lib/python3.11/site-packages/IPython/core/interactiveshell.py:3707: UserWarning: To exit: use 'exit', 'quit', or Ctrl-D.\n",
      "  warn(\"To exit: use 'exit', 'quit', or Ctrl-D.\", stacklevel=1)\n"
     ]
    }
   ],
   "source": [
    "import argparse\n",
    "\n",
    "p = argparse.ArgumentParser(description=\"Demo of argparse\")\n",
    "p.add_argument(\"--term\", type=str, required=True, help=\"Search term, e.g. 'korean bbq'\")\n",
    "p.add_argument(\"--max-records\", type=int, default=150, help=\"How many records to fetch\")\n",
    "args = p.parse_args()\n",
    "\n",
    "print(\"term:\", args.term)\n",
    "print(\"max:\", args.max_records)\n"
   ]
  },
  {
   "cell_type": "code",
   "execution_count": null,
   "id": "cd540d48",
   "metadata": {},
   "outputs": [
    {
     "name": "stdout",
     "output_type": "stream",
     "text": [
      "term: korean\n",
      "max: 50\n"
     ]
    }
   ],
   "source": [
    "\n",
    "!python /app/ingestion/day3_argparse_demo.py \\\n",
    "--term \"korean\" \\\n",
    "--max-records 50"
   ]
  },
  {
   "cell_type": "code",
   "execution_count": 42,
   "id": "619a046a",
   "metadata": {},
   "outputs": [
    {
     "name": "stdout",
     "output_type": "stream",
     "text": [
      "python: can't open file '/app/notebooks/app/utils/cli.py': [Errno 2] No such file or directory\n"
     ]
    }
   ],
   "source": [
    "!cd /app\n",
    "\n",
    "!python app/utils/cli.py --help\n",
    "\n",
    "# !python /app/utils/cli.py --help"
   ]
  },
  {
   "cell_type": "code",
   "execution_count": 45,
   "id": "cd786372",
   "metadata": {},
   "outputs": [
    {
     "ename": "ModuleNotFoundError",
     "evalue": "No module named 'utils'",
     "output_type": "error",
     "traceback": [
      "\u001b[31m---------------------------------------------------------------------------\u001b[39m",
      "\u001b[31mModuleNotFoundError\u001b[39m                       Traceback (most recent call last)",
      "\u001b[36mFile \u001b[39m\u001b[32m/app/utils/cli.py:3\u001b[39m\n\u001b[32m      1\u001b[39m \u001b[38;5;28;01mimport\u001b[39;00m\u001b[38;5;250m \u001b[39m\u001b[34;01mos\u001b[39;00m\n\u001b[32m      2\u001b[39m \u001b[38;5;28;01mimport\u001b[39;00m\u001b[38;5;250m \u001b[39m\u001b[34;01margparse\u001b[39;00m\n\u001b[32m----> \u001b[39m\u001b[32m3\u001b[39m \u001b[38;5;28;01mfrom\u001b[39;00m\u001b[38;5;250m \u001b[39m\u001b[34;01mutils\u001b[39;00m\u001b[34;01m.\u001b[39;00m\u001b[34;01mconfig\u001b[39;00m\u001b[38;5;250m \u001b[39m\u001b[38;5;28;01mimport\u001b[39;00m load_cfg\n\u001b[32m      5\u001b[39m \u001b[38;5;28;01mdef\u001b[39;00m\u001b[38;5;250m \u001b[39m\u001b[34mparse_args\u001b[39m() -> argparse.Namespace:\n\u001b[32m      6\u001b[39m     parser = argparse.ArgumentParser(\n\u001b[32m      7\u001b[39m         prog=\u001b[33m'\u001b[39m\u001b[33mdri-util\u001b[39m\u001b[33m'\u001b[39m,\n\u001b[32m      8\u001b[39m         description=\u001b[33m'\u001b[39m\u001b[33mUtilities for Daily Restaurant Insights\u001b[39m\u001b[33m'\u001b[39m\n\u001b[32m      9\u001b[39m     )\n",
      "\u001b[31mModuleNotFoundError\u001b[39m: No module named 'utils'"
     ]
    }
   ],
   "source": [
    "%run ../utils/cli.py --help"
   ]
  },
  {
   "cell_type": "code",
   "execution_count": null,
   "id": "aefacbf9",
   "metadata": {},
   "outputs": [
    {
     "name": "stdout",
     "output_type": "stream",
     "text": [
      "910\n"
     ]
    }
   ],
   "source": []
  },
  {
   "cell_type": "code",
   "execution_count": null,
   "id": "52918fa9",
   "metadata": {},
   "outputs": [],
   "source": []
  },
  {
   "cell_type": "code",
   "execution_count": null,
   "id": "6a7a0444",
   "metadata": {},
   "outputs": [],
   "source": []
  }
 ],
 "metadata": {
  "kernelspec": {
   "display_name": "Python 3",
   "language": "python",
   "name": "python3"
  },
  "language_info": {
   "codemirror_mode": {
    "name": "ipython",
    "version": 3
   },
   "file_extension": ".py",
   "mimetype": "text/x-python",
   "name": "python",
   "nbconvert_exporter": "python",
   "pygments_lexer": "ipython3",
   "version": "3.11.13"
  }
 },
 "nbformat": 4,
 "nbformat_minor": 5
}
