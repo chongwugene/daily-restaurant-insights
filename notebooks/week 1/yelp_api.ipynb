{
 "cells": [
  {
   "cell_type": "code",
   "execution_count": 1,
   "id": "dae732a6",
   "metadata": {},
   "outputs": [],
   "source": [
    "import os\n",
    "import requests\n",
    "import time\n",
    "import json\n",
    "from google.cloud import storage, bigquery\n",
    "from datetime import datetime\n",
    "\n",
    "# Load Yelp API key from environment variable\n",
    "API_KEY = os.getenv(\"YELP_API_KEY\")  \n",
    "# Why? Because we NEVER hardcode secrets in code. Industry standard.\n",
    "\n",
    "YELP_URL = \"https://api.yelp.com/v3/businesses/search\"\n",
    "\n"
   ]
  },
  {
   "cell_type": "code",
   "execution_count": 2,
   "id": "f79087db",
   "metadata": {},
   "outputs": [
    {
     "data": {
      "text/plain": [
       "'_TZZJbs55ENUDK2lRDU0lwmVf1DodAq4ja16ahgD9C_dd1WA8o1bEiCBetWi9cmFS9tdWiH5GKzAUKSh97-RjA62cALkEmAT4VslMrSdO1CzE8FFYVQdMZxw2-JLaHYx'"
      ]
     },
     "execution_count": 2,
     "metadata": {},
     "output_type": "execute_result"
    }
   ],
   "source": [
    "API_KEY"
   ]
  },
  {
   "cell_type": "code",
   "execution_count": 3,
   "id": "fff0606d",
   "metadata": {},
   "outputs": [],
   "source": [
    "YELP_URL = \"https://api.yelp.com/v3/businesses/search\"\n",
    "\n",
    "# Parameters for the Yelp API\n",
    "params = {\n",
    "    \"location\": \"Orange County, CA\",\n",
    "    \"categories\": \"asian restaurants\",\n",
    "    \"limit\": 50\n",
    "}"
   ]
  },
  {
   "cell_type": "code",
   "execution_count": 4,
   "id": "8be9079b",
   "metadata": {},
   "outputs": [],
   "source": [
    "# Make the request\n",
    "headers = {\"Authorization\": f\"Bearer {API_KEY}\"}\n",
    "response = requests.get(YELP_URL, headers=headers, params=params)\n",
    "\n",
    "if response.status_code != 200:\n",
    "    raise Exception(f\"Yelp API failed: {response.text}\")\n",
    "\n",
    "data = response.json()"
   ]
  },
  {
   "cell_type": "code",
   "execution_count": 5,
   "id": "d268a47d",
   "metadata": {},
   "outputs": [],
   "source": [
    "# Save to local as JSON\n",
    "timestamp = datetime.utcnow().strftime(\"%Y%m%d_%H%M%S\")\n",
    "filename = f\"yelp_restaurants_{timestamp}.json\"\n",
    "\n",
    "with open(filename, \"w\") as f:\n",
    "    json.dump(data, f)"
   ]
  },
  {
   "cell_type": "code",
   "execution_count": 6,
   "id": "80cad43b",
   "metadata": {},
   "outputs": [],
   "source": [
    "# Upload to Google Cloud Storage (bronze)\n",
    "storage_client = storage.Client()\n",
    "bucket = storage_client.bucket(\"dri-raw-96\")\n",
    "blob = bucket.blob(f\"yelp/{filename}\")\n",
    "blob.upload_from_filename(filename)"
   ]
  },
  {
   "cell_type": "code",
   "execution_count": 2,
   "id": "413ef826",
   "metadata": {},
   "outputs": [
    {
     "name": "stdout",
     "output_type": "stream",
     "text": [
      "GOOGLE_APPLICATION_CREDENTIALS_DEV = /app/gcp-sa-dri-dev.json\n",
      "ADC project = dri-dev-96\n"
     ]
    }
   ],
   "source": [
    "import os, google.auth\n",
    "print(\"GOOGLE_APPLICATION_CREDENTIALS_DEV =\", os.getenv(\"GOOGLE_APPLICATION_CREDENTIALS_DEV\"))\n",
    "creds, proj = google.auth.default()\n",
    "print(\"ADC project =\", proj)"
   ]
  },
  {
   "cell_type": "code",
   "execution_count": 9,
   "id": "7b2584a2",
   "metadata": {},
   "outputs": [
    {
     "name": "stdout",
     "output_type": "stream",
     "text": [
      "Inserted 50 rows into dri-dev-96.bronze.yelp_restaurants\n"
     ]
    }
   ],
   "source": [
    "from datetime import datetime, timezone\n",
    "\n",
    "# Add ingestion timestamp to each record\n",
    "ingested_at = datetime.now(timezone.utc).isoformat()\n",
    "rows = [\n",
    "    {**biz, \"_ingested_at\": ingested_at}\n",
    "    for biz in data[\"businesses\"]\n",
    "]\n",
    "\n",
    "# Define table_id\n",
    "table_id = \"dri-dev-96.bronze.yelp_restaurants\"\n",
    "\n",
    "# Load into BigQuery\n",
    "job = bq_client.load_table_from_json(\n",
    "    rows,\n",
    "    table_id\n",
    ")\n",
    "\n",
    "job.result()\n",
    "print(f\"Inserted {len(rows)} rows into {table_id}\")"
   ]
  },
  {
   "cell_type": "code",
   "execution_count": null,
   "id": "7d3f942e",
   "metadata": {},
   "outputs": [],
   "source": []
  },
  {
   "cell_type": "code",
   "execution_count": null,
   "id": "1b2e73ad",
   "metadata": {},
   "outputs": [],
   "source": []
  },
  {
   "cell_type": "code",
   "execution_count": null,
   "id": "1c9c3fd3",
   "metadata": {},
   "outputs": [],
   "source": [
    "## Restarting with new code"
   ]
  },
  {
   "cell_type": "code",
   "execution_count": 10,
   "id": "e71eabf8",
   "metadata": {},
   "outputs": [],
   "source": [
    "# src/ingestion/yelp_ingest.py\n",
    "import os, sys, json, time, argparse, logging\n",
    "from datetime import datetime, timezone\n",
    "\n",
    "import requests                     # HTTP calls to Yelp\n",
    "from google.cloud import storage    # write files to GCS\n",
    "from google.cloud import bigquery   # optional: load raw table to BQ\n",
    "\n",
    "# Console logger (simple and readable)\n",
    "log = logging.getLogger(\"yelp_ingest\")\n",
    "log.setLevel(logging.INFO)\n",
    "handler = logging.StreamHandler(sys.stdout)\n",
    "handler.setFormatter(logging.Formatter('%(asctime)s %(levelname)s %(message)s'))\n",
    "log.addHandler(handler)"
   ]
  },
  {
   "cell_type": "code",
   "execution_count": 11,
   "id": "44a2d0f6",
   "metadata": {},
   "outputs": [],
   "source": [
    "def make_timestamps():\n",
    "    # Folder partition (day) and precise row timestamp (UTC)\n",
    "    dt = datetime.now(timezone.utc).strftime(\"%Y-%m-%d\")\n",
    "    ingested_at = datetime.now(timezone.utc).strftime(\"%Y%m%d_%H%M%S\")\n",
    "    return dt, ingested_at"
   ]
  },
  {
   "cell_type": "code",
   "execution_count": 12,
   "id": "0280950e",
   "metadata": {},
   "outputs": [],
   "source": [
    "def resolve_env():\n",
    "    env = os.getenv(\"ENV\", \"dev\").lower()\n",
    "    if env not in (\"dev\", \"prod\"):\n",
    "        raise ValueError(\"ENV must be 'dev' or 'prod'\")\n",
    "\n",
    "    if env == \"dev\":\n",
    "        return {\n",
    "            \"env\": env,\n",
    "            \"project\": os.getenv(\"GCP_PROJECT_ID_DEV\"),\n",
    "            \"bucket\":  os.getenv(\"GCS_BUCKET_NAME_DEV\"),\n",
    "            \"keyfile\": os.getenv(\"GOOGLE_APPLICATION_CREDENTIALS_DEV\"),\n",
    "        }\n",
    "    else:\n",
    "        return {\n",
    "            \"env\": env,\n",
    "            \"project\": os.getenv(\"GCP_PROJECT_ID_PROD\"),\n",
    "            \"bucket\":  os.getenv(\"GCS_BUCKET_NAME_PROD\"),\n",
    "            \"keyfile\": os.getenv(\"GOOGLE_APPLICATION_CREDENTIALS_PROD\"),\n",
    "        }\n"
   ]
  },
  {
   "cell_type": "code",
   "execution_count": 13,
   "id": "7083384b",
   "metadata": {},
   "outputs": [],
   "source": [
    "def parse_args():\n",
    "    p = argparse.ArgumentParser(description=\"Ingest Yelp businesses to GCS bronze (optional BQ).\")\n",
    "    p.add_argument(\"--term\", type=str, help=\"search term, e.g. 'korean bbq'\")\n",
    "    p.add_argument(\"--location\", type=str, help=\"e.g. 'Los Angeles, CA'\")\n",
    "    p.add_argument(\"--latitude\", type=float, help=\"latitude if no location\")\n",
    "    p.add_argument(\"--longitude\", type=float, help=\"longitude if no location\")\n",
    "    p.add_argument(\"--categories\", type=str, help=\"e.g. 'korean,bbq'\")\n",
    "    p.add_argument(\"--per-page\", type=int, default=50, help=\"Yelp max is 50\")\n",
    "    p.add_argument(\"--max-records\", type=int, default=150, help=\"total cap to fetch\")\n",
    "    p.add_argument(\"--dt\", type=str, help=\"override partition date YYYY-MM-DD\")\n",
    "    p.add_argument(\"--write-bq\", action=\"store_true\", help=\"also load a raw BQ table\")\n",
    "    return p.parse_args()\n"
   ]
  },
  {
   "cell_type": "code",
   "execution_count": 14,
   "id": "50d57000",
   "metadata": {},
   "outputs": [],
   "source": [
    "YELP_SEARCH_URL = \"https://api.yelp.com/v3/businesses/search\"\n",
    "\n",
    "def fetch_yelp(api_key, *, term=None, location=None, latitude=None, longitude=None,\n",
    "               categories=None, per_page=50, max_records=150):\n",
    "    headers = {\"Authorization\": f\"Bearer {api_key}\"}\n",
    "    results = []\n",
    "    offset = 0\n",
    "\n",
    "    while len(results) < max_records:\n",
    "        page_limit = min(per_page, max_records - len(results))\n",
    "        params = {\"limit\": page_limit, \"offset\": offset}\n",
    "        if term: params[\"term\"] = term\n",
    "        if location: params[\"location\"] = location\n",
    "        if latitude is not None and longitude is not None:\n",
    "            params[\"latitude\"] = latitude; params[\"longitude\"] = longitude\n",
    "        if categories: params[\"categories\"] = categories\n",
    "\n",
    "        # retry up to 4 times on 429/5xx with simple exponential backoff\n",
    "        for attempt in range(1, 5):\n",
    "            resp = requests.get(YELP_SEARCH_URL, headers=headers, params=params, timeout=30)\n",
    "            if resp.status_code == 200:\n",
    "                break\n",
    "            if resp.status_code in (429, 500, 502, 503, 504) and attempt < 4:\n",
    "                sleep_s = 2 ** (attempt - 1)  # 1s,2s,4s\n",
    "                log.warning(json.dumps({\"event\":\"retry\", \"status\":resp.status_code, \"sleep\":sleep_s}))\n",
    "                time.sleep(sleep_s)\n",
    "                continue\n",
    "            raise RuntimeError(f\"Yelp failed: {resp.status_code} {resp.text[:300]}\")\n",
    "\n",
    "        items = resp.json().get(\"businesses\", [])\n",
    "        results.extend(items)\n",
    "        log.info(json.dumps({\"event\":\"page\", \"page_count\":len(items), \"total\":len(results), \"offset\":offset}))\n",
    "        if not items or len(items) < page_limit:\n",
    "            break\n",
    "        offset += page_limit\n",
    "\n",
    "    return results\n"
   ]
  },
  {
   "cell_type": "code",
   "execution_count": 15,
   "id": "177693fb",
   "metadata": {},
   "outputs": [],
   "source": [
    "def write_gcs_ndjson(bucket_url, dt, records, shard=\"0001\"):\n",
    "    assert bucket_url.startswith(\"gs://\"), \"bucket must start with gs://\"\n",
    "    bucket_name, *maybe_prefix = bucket_url.replace(\"gs://\",\"\").split(\"/\", 1)\n",
    "    root = maybe_prefix[0] if maybe_prefix else \"\"\n",
    "    path = (f\"{root}/bronze/yelp/dt={dt}/part-{shard}.json\"\n",
    "            if root else f\"bronze/yelp/dt={dt}/part-{shard}.json\")\n",
    "\n",
    "    body = \"\\n\".join(json.dumps(r, ensure_ascii=False) for r in records)\n",
    "\n",
    "    client = storage.Client()\n",
    "    blob = client.bucket(bucket_name).blob(path)\n",
    "    blob.upload_from_string(body, content_type=\"application/json\")\n",
    "    uri = f\"gs://{bucket_name}/{path}\"\n",
    "    log.info(json.dumps({\"event\":\"gcs_write\", \"uri\":uri, \"records\":len(records)}))\n",
    "    return uri\n"
   ]
  },
  {
   "cell_type": "code",
   "execution_count": 16,
   "id": "d45a330f",
   "metadata": {},
   "outputs": [],
   "source": [
    "def load_bq_raw(project_id, dataset, table, gcs_uri):\n",
    "    client = bigquery.Client(project=project_id)\n",
    "    job_cfg = bigquery.LoadJobConfig(\n",
    "        source_format=bigquery.SourceFormat.NEWLINE_DELIMITED_JSON,\n",
    "        autodetect=True,\n",
    "        write_disposition=bigquery.WriteDisposition.WRITE_APPEND\n",
    "    )\n",
    "    table_id = f\"{project_id}.{dataset}.{table}\"\n",
    "    job = client.load_table_from_uri(gcs_uri, table_id, job_config=job_cfg)\n",
    "    job.result()\n",
    "    log.info(json.dumps({\"event\":\"bq_load\", \"table\":table_id, \"uri\":gcs_uri}))\n"
   ]
  },
  {
   "cell_type": "code",
   "execution_count": 17,
   "id": "6f7f2cad",
   "metadata": {},
   "outputs": [
    {
     "name": "stderr",
     "output_type": "stream",
     "text": [
      "usage: ipykernel_launcher.py [-h] [--term TERM] [--location LOCATION]\n",
      "                             [--latitude LATITUDE] [--longitude LONGITUDE]\n",
      "                             [--categories CATEGORIES] [--per-page PER_PAGE]\n",
      "                             [--max-records MAX_RECORDS] [--dt DT]\n",
      "                             [--write-bq]\n",
      "ipykernel_launcher.py: error: unrecognized arguments: --f=/root/.local/share/jupyter/runtime/kernel-v3cc263cd4ccc201afa3d0c80f69a2889d03eeb922.json\n"
     ]
    },
    {
     "ename": "SystemExit",
     "evalue": "2",
     "output_type": "error",
     "traceback": [
      "An exception has occurred, use %tb to see the full traceback.\n",
      "\u001b[31mSystemExit\u001b[39m\u001b[31m:\u001b[39m 2\n"
     ]
    },
    {
     "name": "stderr",
     "output_type": "stream",
     "text": [
      "/usr/local/lib/python3.11/site-packages/IPython/core/interactiveshell.py:3707: UserWarning: To exit: use 'exit', 'quit', or Ctrl-D.\n",
      "  warn(\"To exit: use 'exit', 'quit', or Ctrl-D.\", stacklevel=1)\n"
     ]
    }
   ],
   "source": [
    "def main():\n",
    "    args = parse_args()\n",
    "    cfg = resolve_env()\n",
    "\n",
    "    api_key = os.getenv(\"YELP_API_KEY\")\n",
    "    if not api_key:\n",
    "        raise EnvironmentError(\"Missing YELP_API_KEY\")\n",
    "\n",
    "    # Sanity: required envs for chosen environment\n",
    "    for k in (\"project\",\"bucket\",\"keyfile\"):\n",
    "        if not cfg.get(k):\n",
    "            raise EnvironmentError(f\"Missing {k} for ENV={cfg['env']}\")\n",
    "\n",
    "    # Basic arg validation: need either location OR lat/lon\n",
    "    if not args.location and (args.latitude is None or args.longitude is None):\n",
    "        raise ValueError(\"Provide --location OR both --latitude and --longitude\")\n",
    "\n",
    "    # Timestamps (folder + row)\n",
    "    dt = args.dt or make_timestamps()[0]\n",
    "    ingested_at = make_timestamps()[1]\n",
    "\n",
    "    # Fetch from Yelp\n",
    "    t0 = time.time()\n",
    "    rows = fetch_yelp(\n",
    "        api_key,\n",
    "        term=args.term, location=args.location,\n",
    "        latitude=args.latitude, longitude=args.longitude,\n",
    "        categories=args.categories, per_page=args.per_page, max_records=args.max_records\n",
    "    )\n",
    "    log.info(json.dumps({\"event\":\"fetch_done\",\"count\":len(rows),\"seconds\":round(time.time()-t0,2)}))\n",
    "    if not rows:\n",
    "        log.warning(json.dumps({\"event\":\"no_results\"}))\n",
    "        return\n",
    "\n",
    "    # Add row-level timestamp for lineage\n",
    "    enriched = [{**r, \"ingested_at\": ingested_at} for r in rows]\n",
    "\n",
    "    # Write to GCS bronze (partitioned)\n",
    "    gcs_uri = write_gcs_ndjson(cfg[\"bucket\"], dt, enriched, shard=\"0001\")\n",
    "\n",
    "    # Optionally load a raw BQ table (one table per day)\n",
    "    if args.write_bq:\n",
    "        table = f\"yelp_raw_{dt.replace('-','')}\"  # e.g., yelp_raw_20250815\n",
    "        load_bq_raw(cfg[\"project\"], \"bronze\", table, gcs_uri)\n",
    "\n",
    "if __name__ == \"__main__\":\n",
    "    main()\n"
   ]
  },
  {
   "cell_type": "code",
   "execution_count": 18,
   "id": "556776bc",
   "metadata": {},
   "outputs": [],
   "source": [
    "# scripts/ingest_yelp.py\n",
    "import argparse\n",
    "\n",
    "def build_parser():\n",
    "    p = argparse.ArgumentParser()\n",
    "    p.add_argument(\"--term\")\n",
    "    p.add_argument(\"--location\")\n",
    "    p.add_argument(\"--latitude\", type=float)\n",
    "    p.add_argument(\"--longitude\", type=float)\n",
    "    p.add_argument(\"--categories\")\n",
    "    p.add_argument(\"--per-page\", type=int, default=50)\n",
    "    p.add_argument(\"--max-records\", type=int, default=100)\n",
    "    p.add_argument(\"--dt\")\n",
    "    p.add_argument(\"--write-bq\", action=\"store_true\")\n",
    "    return p\n",
    "\n",
    "def main(args):\n",
    "    # your logic here, using args.term, args.location, etc.\n",
    "    ...\n",
    "\n",
    "if __name__ == \"__main__\":\n",
    "    parser = build_parser()\n",
    "    # NOTE: parse_known_args ignores any extra flags (like Jupyter's --f=...)\n",
    "    args, _ = parser.parse_known_args()\n",
    "    main(args)\n"
   ]
  },
  {
   "cell_type": "code",
   "execution_count": 19,
   "id": "25115e64",
   "metadata": {},
   "outputs": [
    {
     "ename": "SyntaxError",
     "evalue": "invalid syntax (1004905283.py, line 2)",
     "output_type": "error",
     "traceback": [
      "  \u001b[36mCell\u001b[39m\u001b[36m \u001b[39m\u001b[32mIn[19]\u001b[39m\u001b[32m, line 2\u001b[39m\n\u001b[31m    \u001b[39m\u001b[31mdocker stop dri-dev 2>/dev/null || true\u001b[39m\n           ^\n\u001b[31mSyntaxError\u001b[39m\u001b[31m:\u001b[39m invalid syntax\n"
     ]
    }
   ],
   "source": [
    "# stop/remove old container name if exists\n",
    "docker stop dri-dev 2>/dev/null || true\n",
    "docker rm dri-dev 2>/dev/null || true\n",
    "\n",
    "docker run -it --name dri-dev \\\n",
    "  --env-file .env \\\n",
    "  -e ENV=dev \\\n",
    "  -e DBT_TARGET=dev \\\n",
    "  -p 8888:8888 \\\n",
    "  -v \"$(pwd)\":/app \\\n",
    "  -v \"$(pwd)/gcp-sa-dri-dev.json\":/app/gcp-sa-dev.json:ro \\\n",
    "  dri:latest bash\n"
   ]
  },
  {
   "cell_type": "code",
   "execution_count": null,
   "id": "a300c5e4",
   "metadata": {},
   "outputs": [],
   "source": []
  },
  {
   "cell_type": "code",
   "execution_count": null,
   "id": "2d358c7b",
   "metadata": {},
   "outputs": [],
   "source": []
  }
 ],
 "metadata": {
  "kernelspec": {
   "display_name": "Python 3",
   "language": "python",
   "name": "python3"
  },
  "language_info": {
   "codemirror_mode": {
    "name": "ipython",
    "version": 3
   },
   "file_extension": ".py",
   "mimetype": "text/x-python",
   "name": "python",
   "nbconvert_exporter": "python",
   "pygments_lexer": "ipython3",
   "version": "3.11.13"
  }
 },
 "nbformat": 4,
 "nbformat_minor": 5
}
