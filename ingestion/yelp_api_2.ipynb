{
 "cells": [
  {
   "cell_type": "code",
   "execution_count": 1,
   "id": "d13d5031",
   "metadata": {},
   "outputs": [],
   "source": [
    "import os, sys, json, time, argparse, logging\n",
    "from datetime import datetime, timezone\n",
    "import requests                    # HTTP client\n",
    "from google.cloud import storage   # GCS client\n",
    "from google.cloud import bigquery  # BigQuery client\n",
    "\n",
    "log = logging.getLogger(\"yelp_ingest\")\n",
    "log.setLevel(logging.INFO)\n",
    "_handler = logging.StreamHandler(sys.stdout)\n",
    "_handler.setFormatter(logging.Formatter('%(asctime)s %(levelname)s %(message)s'))\n",
    "log.addHandler(_handler)\n"
   ]
  },
  {
   "cell_type": "code",
   "execution_count": null,
   "id": "1540f9f6",
   "metadata": {},
   "outputs": [
    {
     "name": "stdout",
     "output_type": "stream",
     "text": [
      "('2025-08-16', '20250816_072101')\n"
     ]
    }
   ],
   "source": [
    "def make_timestamps():\n",
    "    dt = datetime.now(timezone.utc).strftime(\"%Y-%m-%d\")     # folder partition\n",
    "    ingested_at = datetime.now(timezone.utc).strftime(\"%Y%m%d_%H%M%S\")  # row lineage\n",
    "    return dt, ingested_at\n",
    "# print(make_timestamps())"
   ]
  },
  {
   "cell_type": "code",
   "execution_count": 3,
   "id": "920168a6",
   "metadata": {},
   "outputs": [
    {
     "name": "stdout",
     "output_type": "stream",
     "text": [
      "Configuration: {'env': 'dev', 'project': 'dri-dev-96', 'bucket': 'gs://dri-raw-96', 'keyfile': '/app/gcp-sa-dri-dev.json'}\n"
     ]
    }
   ],
   "source": [
    "def resolve_env():\n",
    "    env = os.getenv(\"ENV\", \"dev\").lower()\n",
    "    if env not in (\"dev\", \"prod\"):\n",
    "        raise ValueError(\"ENV must be 'dev' or 'prod'\")\n",
    "\n",
    "    if env == \"dev\":\n",
    "        cfg = {\n",
    "            \"env\": env,\n",
    "            \"project\": os.getenv(\"GCP_PROJECT_ID_DEV\"),\n",
    "            \"bucket\":  os.getenv(\"GCS_BUCKET_NAME_DEV\"),\n",
    "            \"keyfile\": os.getenv(\"GOOGLE_APPLICATION_CREDENTIALS_DEV\"),\n",
    "        }\n",
    "    else:\n",
    "        cfg = {\n",
    "            \"env\": env,\n",
    "            \"project\": os.getenv(\"GCP_PROJECT_ID_PROD\"),\n",
    "            \"bucket\":  os.getenv(\"GCS_BUCKET_NAME_PROD\"),\n",
    "            \"keyfile\": os.getenv(\"GOOGLE_APPLICATION_CREDENTIALS_PROD\"),\n",
    "        }\n",
    "\n",
    "    # Fail early if anything is missing\n",
    "    for k, v in cfg.items():\n",
    "        if not v:\n",
    "            raise EnvironmentError(f\"Missing {k} for ENV={env}\")\n",
    "    return cfg\n",
    "\n",
    "print(\"Configuration:\", resolve_env())"
   ]
  },
  {
   "cell_type": "code",
   "execution_count": 4,
   "id": "a77706a8",
   "metadata": {},
   "outputs": [
    {
     "name": "stderr",
     "output_type": "stream",
     "text": [
      "usage: ipykernel_launcher.py [-h] [--term TERM] [--location LOCATION]\n",
      "                             [--latitude LATITUDE] [--longitude LONGITUDE]\n",
      "                             [--categories CATEGORIES] [--per-page PER_PAGE]\n",
      "                             [--max-records MAX_RECORDS] [--dt DT]\n",
      "                             [--write-bq]\n",
      "ipykernel_launcher.py: error: unrecognized arguments: --f=/root/.local/share/jupyter/runtime/kernel-v329d71b3e68e389d82e136702e6b9c74a0085896c.json\n"
     ]
    },
    {
     "ename": "SystemExit",
     "evalue": "2",
     "output_type": "error",
     "traceback": [
      "An exception has occurred, use %tb to see the full traceback.\n",
      "\u001b[31mSystemExit\u001b[39m\u001b[31m:\u001b[39m 2\n"
     ]
    },
    {
     "name": "stderr",
     "output_type": "stream",
     "text": [
      "/usr/local/lib/python3.11/site-packages/IPython/core/interactiveshell.py:3707: UserWarning: To exit: use 'exit', 'quit', or Ctrl-D.\n",
      "  warn(\"To exit: use 'exit', 'quit', or Ctrl-D.\", stacklevel=1)\n"
     ]
    }
   ],
   "source": [
    "def parse_args():\n",
    "    p = argparse.ArgumentParser(description=\"Ingest Yelp businesses to GCS bronze (optional BQ).\")\n",
    "    p.add_argument(\"--term\", type=str, help=\"search term, e.g. 'korean bbq'\")\n",
    "    p.add_argument(\"--location\", type=str, help=\"e.g. 'Los Angeles, CA'\")\n",
    "    p.add_argument(\"--latitude\", type=float, help=\"latitude if no location\")\n",
    "    p.add_argument(\"--longitude\", type=float, help=\"longitude if no location\")\n",
    "    p.add_argument(\"--categories\", type=str, help=\"e.g. 'korean,bbq'\")\n",
    "    p.add_argument(\"--per-page\", type=int, default=50, help=\"Yelp max is 50\")\n",
    "    p.add_argument(\"--max-records\", type=int, default=150, help=\"cap total fetch\")\n",
    "    p.add_argument(\"--dt\", type=str, help=\"override partition date YYYY-MM-DD\")\n",
    "    p.add_argument(\"--write-bq\", action=\"store_true\", help=\"also load a raw BQ table\")\n",
    "    return p.parse_args()\n",
    "\n",
    "print(\"Command line arguments:\", parse_args())"
   ]
  },
  {
   "cell_type": "code",
   "execution_count": null,
   "id": "ba7abd53",
   "metadata": {},
   "outputs": [],
   "source": []
  },
  {
   "cell_type": "code",
   "execution_count": null,
   "id": "063b4c7d",
   "metadata": {},
   "outputs": [],
   "source": []
  },
  {
   "cell_type": "code",
   "execution_count": null,
   "id": "49e3b6e8",
   "metadata": {},
   "outputs": [],
   "source": []
  }
 ],
 "metadata": {
  "kernelspec": {
   "display_name": "Python 3",
   "language": "python",
   "name": "python3"
  },
  "language_info": {
   "codemirror_mode": {
    "name": "ipython",
    "version": 3
   },
   "file_extension": ".py",
   "mimetype": "text/x-python",
   "name": "python",
   "nbconvert_exporter": "python",
   "pygments_lexer": "ipython3",
   "version": "3.11.13"
  }
 },
 "nbformat": 4,
 "nbformat_minor": 5
}
